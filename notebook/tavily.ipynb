{
 "cells": [
  {
   "cell_type": "code",
   "execution_count": 16,
   "id": "8dee17a8",
   "metadata": {},
   "outputs": [],
   "source": [
    "import os \n",
    "from dotenv import load_dotenv\n",
    "from langchain.chat_models import ChatOpenAI\n",
    "from langchain.tools.tavily_search import TavilySearchResults \n",
    "from langchain.agents import tool\n",
    "from langchain_core.runnables import RunnableLambda\n",
    "from langgraph.graph import StateGraph\n",
    "from langchain_core.runnables.graph_mermaid import MermaidDrawMethod\n",
    "from PIL import Image\n",
    "from IPython.display import display\n",
    "from pydantic import BaseModel\n",
    "from typing import List, Optional\n",
    "\n",
    "\n",
    "\n",
    "\n"
   ]
  },
  {
   "cell_type": "code",
   "execution_count": 2,
   "id": "9ddc54d3",
   "metadata": {},
   "outputs": [],
   "source": [
    "load_dotenv()\n",
    "\n",
    "TAVILY_API_KEY = os.getenv(\"TAVILY_API_KEY\")\n",
    "OPENAI_API_KEY = os.getenv(\"OPENAI_API_KEY\")\n",
    "\n",
    "tavily_tool = TavilySearchResults(api_key =TAVILY_API_KEY)\n"
   ]
  },
  {
   "cell_type": "code",
   "execution_count": 3,
   "id": "fa368441",
   "metadata": {},
   "outputs": [],
   "source": [
    "@tool\n",
    "def research_agent(input_query: str) -> dict:\n",
    "\n",
    "    \"\"\"Use Tavily to get the search results for a query, with a retry on failure.\"\"\"\n",
    "\n",
    "    \n",
    "    \n",
    "    try:\n",
    "        search_results = tavily_tool.run(input_query, num_results=10)\n",
    "    except Exception as e:\n",
    "        print(f\"First attempt failed: {e}. Retrying...\")\n",
    "        try:\n",
    "            search_results = tavily_tool.run(input_query, num_results=10)\n",
    "        except Exception as e:\n",
    "            print(f\"Second attempt failed: {e}\")\n",
    "            return {\"raw_search_results\": \"\", \"original_links\": []}\n",
    "\n",
    "    serialized_results = \"\"\n",
    "    original_links = []\n",
    "\n",
    "    for item in search_results:\n",
    "        serialized_results += f\"Title: {item.get('title')}\\nSnippet: {item.get('content')}\\nLink: {item.get('url')}\\n\\n\"\n",
    "        original_links.append(item.get('url'))\n",
    "\n",
    "    return {\"raw_search_results\": serialized_results, \"original_links\": original_links}\n"
   ]
  },
  {
   "cell_type": "code",
   "execution_count": 4,
   "id": "698a957f",
   "metadata": {},
   "outputs": [
    {
     "name": "stdout",
     "output_type": "stream",
     "text": [
      "---- Raw Search Results ----\n",
      "Title: What Is LangChain? | DataStax\n",
      "Snippet: What is LangChain?\n",
      "LangChain is a Python framework designed to streamline AI application development, focusing on real-time data processing and integration with large language models (LLMs). It offers features for data communication, generating vector embeddings, and simplifying the interaction with LLMs, making it efficient for AI developers. [...] What are the key components of LangChain?\n",
      "LangChain is a sophisticated framework comprising several key components that work in synergy to enhance natural language processing tasks. These components enable the system to effectively understand, process, and generate human-like language responses.\n",
      "LLMs (large language models) [...] But LLM interaction is just the beginning of what LangChain can help with. Let’s look at why it is important before diving into some of the framework’s key features.\n",
      "LangChain is a Python framework designed to streamline AI application development, focusing on real-time data processing and integration with large language models (LLMs).\n",
      "Link: https://www.datastax.com/guides/what-is-langchain\n",
      "\n",
      "Title: What Is LangChain and How to Use It: A Guide - TechTarget\n",
      "Snippet: LangChain is an open source framework that enables software developers working with artificial intelligence (AI) and its machine learning subset to combine large language models with other external components to develop LLM-powered applications. [...] LangChain is a framework that simplifies the process of creating generative AI application interfaces. Developers working on these types of interfaces use various tools to create advanced NLP apps; LangChain streamlines this process. For example, LLMs must access large volumes of big data, so LangChain organizes these large quantities of data so that they can be accessed with ease.\n",
      "This article is part of\n",
      "What is Gen AI? Generative AI explained [...] Simplified development. LangChain offers a standardized interface that enables developers to easily switch between different LLMs, streamline workflows and reduce integration complexity. For example, they can switch between LLMs from providers such as OpenAI or Hugging Face with minimal code changes.\n",
      "Link: https://www.techtarget.com/searchenterpriseai/definition/LangChain\n",
      "\n",
      "Title: What Is LangChain? - IBM\n",
      "Snippet: What Is LangChain? | IBM\n",
      "My IBM Log in Subscribe   \n",
      "What is LangChain?\n",
      "Artificial Intelligence\n",
      "31 October 2023\n",
      "Link copied\n",
      "What is LangChain?\n",
      "LangChain is an open source orchestration framework for the development of applications using large language models (LLMs). Available in both Python- and Javascript-based libraries, LangChain’s tools and APIs simplify the process of building LLM-driven applications like chatbots and virtual agents. [...] LangChain is essentially a library of abstractions for Python and Javascript, representing common steps and concepts necessary to work with language models. These modular components—like functions and object classes—serve as the building blocks of generative AI programs. They can be “chained” together to create applications, minimizing the amount of code and fine understanding required to execute complex NLP tasks. Though LangChain’s abstracted approach may limit the extent to which an expert [...] The latest AI News + Insights\n",
      "Discover expertly curated insights and news on AI, cloud and more in the weekly Think Newsletter.\n",
      "Subscribe today\n",
      "How does LangChain work?\n",
      "At LangChain’s core is a development environment that streamlines the programming of LLM applications through the use of abstraction: the simplification of code by representing one or more complex processes as a named component that encapsulates all of its constituent steps.\n",
      "Link: https://www.ibm.com/think/topics/langchain\n",
      "\n",
      "Title: LangChain - Wikipedia\n",
      "Snippet: License MIT License\n",
      "Website LangChain.com\n",
      "LangChain is a software framework that helps facilitate the integration of large language models (LLMs) into applications. As a language model integration framework, LangChain's use-cases largely overlap with those of language models in general, including document analysis and summarization, chatbots, and code analysis.[2]\n",
      "History[edit]\n",
      "Link: https://en.wikipedia.org/wiki/LangChain\n",
      "\n",
      "Title: Introduction | 🦜️   LangChain\n",
      "Snippet: Introduction\n",
      "LangChain is a framework for developing applications powered by large language models (LLMs).\n",
      "LangChain simplifies every stage of the LLM application lifecycle:\n",
      "Link: https://python.langchain.com/docs/introduction/\n",
      "\n",
      "\n",
      "---- Original Links ----\n"
     ]
    }
   ],
   "source": [
    "# Direct test without graph\n",
    "query = \"What is LangChain?\"\n",
    "research_output = research_agent.invoke({\"input_query\": query})\n",
    "\n",
    "print(\"---- Raw Search Results ----\")\n",
    "print(research_output[\"raw_search_results\"])\n",
    "print(\"---- Original Links ----\")\n"
   ]
  },
  {
   "cell_type": "code",
   "execution_count": 6,
   "id": "b203e14a",
   "metadata": {},
   "outputs": [],
   "source": [
    "@tool\n",
    "def summarizer_agent(raw_search_results: str, original_links: List[str]) -> dict:\n",
    "    \"\"\"Summarizes raw search results into clean bullet points.\"\"\"\n",
    "    summarizer_llm = ChatOpenAI(model=\"gpt-3.5-turbo\", temperature=0)\n",
    "\n",
    "    prompt = f\"\"\"\n",
    "    You are a research assistant. Summarize the following search results into bullet points.\n",
    "    Focus only on important facts. Ignore unnecessary details.\n",
    "\n",
    "    Search Results:\n",
    "    {raw_search_results}\n",
    "    \"\"\"\n",
    "\n",
    "    response = summarizer_llm.invoke(prompt)\n",
    "    return {\"summary_text\": response.content, \"original_links\": original_links}\n"
   ]
  },
  {
   "cell_type": "code",
   "execution_count": 7,
   "id": "70403604",
   "metadata": {},
   "outputs": [
    {
     "name": "stderr",
     "output_type": "stream",
     "text": [
      "C:\\Users\\91832\\AppData\\Local\\Temp\\ipykernel_19232\\7087349.py:4: LangChainDeprecationWarning: The class `ChatOpenAI` was deprecated in LangChain 0.0.10 and will be removed in 1.0. An updated version of the class exists in the :class:`~langchain-openai package and should be used instead. To use it run `pip install -U :class:`~langchain-openai` and import as `from :class:`~langchain_openai import ChatOpenAI``.\n",
      "  summarizer_llm = ChatOpenAI(model=\"gpt-3.5-turbo\", temperature=0)\n"
     ]
    },
    {
     "name": "stdout",
     "output_type": "stream",
     "text": [
      "---- Summary ----\n",
      "- LangChain is a Python framework designed for AI application development, focusing on real-time data processing and integration with large language models (LLMs)\n",
      "- LangChain streamlines the process of creating generative AI application interfaces and enables developers to easily switch between different LLMs\n",
      "- LangChain is an open source orchestration framework available in Python and Javascript libraries for building LLM-driven applications like chatbots and virtual agents\n",
      "- LangChain simplifies the programming of LLM applications through abstraction, representing complex processes as named components\n",
      "- LangChain facilitates the integration of LLMs into applications for tasks such as document analysis, chatbots, and code analysis\n",
      "---- Links Carried ----\n",
      "['https://www.datastax.com/guides/what-is-langchain', 'https://www.techtarget.com/searchenterpriseai/definition/LangChain', 'https://www.ibm.com/think/topics/langchain', 'https://en.wikipedia.org/wiki/LangChain', 'https://python.langchain.com/docs/introduction/']\n"
     ]
    }
   ],
   "source": [
    "# After research_agent passed\n",
    "summarizer_output = summarizer_agent.invoke(research_output)\n",
    "\n",
    "print(\"---- Summary ----\")\n",
    "print(summarizer_output[\"summary_text\"])\n",
    "print(\"---- Links Carried ----\")\n",
    "print(summarizer_output[\"original_links\"])\n"
   ]
  },
  {
   "cell_type": "code",
   "execution_count": null,
   "id": "b2792d92",
   "metadata": {},
   "outputs": [],
   "source": [
    "@tool\n",
    "def validation_agent(summary_text: str, original_links: List[str]) -> dict:\n",
    "    \"\"\"Validates summarized points for correctness.\"\"\"\n",
    "\n",
    "    validator_llm = ChatOpenAI(model=\"gpt-3.5-turbo\", temperature=0)\n",
    "\n",
    "    prompt = f\"\"\"\n",
    "    You are a fact-checker. Carefully review the following bullet points for accuracy and clarity.\n",
    "    Correct any mistakes or misleading information.\n",
    "\n",
    "   {summary_text}\n",
    "    \"\"\"\n",
    "\n",
    "    response = validator_llm.invoke(prompt)\n",
    "    return {\"validated_text\": response.content, \"original_links\": original_links}\n"
   ]
  },
  {
   "cell_type": "code",
   "execution_count": 12,
   "id": "dc5a379e",
   "metadata": {},
   "outputs": [
    {
     "name": "stdout",
     "output_type": "stream",
     "text": [
      "---- Validated summarized points ----\n",
      "- LangChain is a Python framework designed for AI application development, focusing on real-time data processing and integration with large language models (LLMs).\n",
      "- LangChain streamlines the process of creating generative AI application interfaces and enables developers to easily switch between different LLMs.\n",
      "- LangChain is an open-source orchestration framework available in Python and JavaScript libraries for building LLM-driven applications like chatbots and virtual agents.\n",
      "- LangChain simplifies the programming of LLM applications through abstraction, representing complex processes as named components.\n",
      "- LangChain facilitates the integration of LLMs into applications for tasks such as document analysis, chatbots, and code analysis.\n",
      "---- Links Carried ----\n",
      "['https://www.datastax.com/guides/what-is-langchain', 'https://www.techtarget.com/searchenterpriseai/definition/LangChain', 'https://www.ibm.com/think/topics/langchain', 'https://en.wikipedia.org/wiki/LangChain', 'https://python.langchain.com/docs/introduction/']\n"
     ]
    }
   ],
   "source": [
    "# After research_agent passed\n",
    "validation_output = validation_agent.invoke(summarizer_output)\n",
    "\n",
    "print(\"---- Validated summarized points ----\")\n",
    "print(validation_output[\"validated_text\"])\n",
    "print(\"---- Links Carried ----\")\n",
    "print(summarizer_output[\"original_links\"])"
   ]
  },
  {
   "cell_type": "code",
   "execution_count": 28,
   "id": "4ce2d471",
   "metadata": {},
   "outputs": [],
   "source": [
    "@tool\n",
    "def drafting_agent(validated_text: str, original_links: List[str], answer_type: Optional[str] = \"detailed\") -> str:\n",
    "    \"\"\"Drafts the final answer (short or detailed) based on user preference, then appends citations.\"\"\"\n",
    "    \n",
    "    drafting_llm = ChatOpenAI(model=\"gpt-3.5-turbo\", temperature=0.7)\n",
    "\n",
    "    citations = \"\\n\".join([f\"[{i+1}] {link}\" for i, link in enumerate(original_links)])\n",
    "\n",
    "    if answer_type == \"short\":\n",
    "        prompt = f\"\"\"\n",
    "        You are an expert research assistant.\n",
    "        Write a short, concise 1-2 sentence answer based on the following validated content.\n",
    "        Then list the sources at the end.\n",
    "\n",
    "        You MUST only use the provided validated content to draft the answer. \n",
    "        \n",
    "\n",
    "        Validated Content:\n",
    "        {validated_text}\n",
    "\n",
    "        Sources:\n",
    "        {citations}\n",
    "        \"\"\"\n",
    "    else:\n",
    "        prompt = f\"\"\"\n",
    "        You are an expert research answer writer.\n",
    "        Write a final detailed answer based on the following validated content.\n",
    "        Then list the sources at the end.\n",
    "        You MUST only use the provided validated content to draft the answer. \n",
    "        \n",
    "\n",
    "        Validated Content:\n",
    "        {validated_text}\n",
    "\n",
    "        Sources:\n",
    "        {citations}\n",
    "        \"\"\"\n",
    "\n",
    "    response = drafting_llm.invoke(prompt)\n",
    "    return response.content"
   ]
  },
  {
   "cell_type": "code",
   "execution_count": 29,
   "id": "790ab923",
   "metadata": {},
   "outputs": [
    {
     "name": "stdout",
     "output_type": "stream",
     "text": [
      "LangChain is a Python framework that simplifies the programming of AI applications by facilitating the integration of large language models (LLMs) for tasks like document analysis and chatbot development. \n",
      "\n",
      "Sources:\n",
      "[1] https://www.datastax.com/guides/what-is-langchain\n",
      "[2] https://www.techtarget.com/searchenterpriseai/definition/LangChain\n",
      "[3] https://www.ibm.com/think/topics/langchain\n",
      "[4] https://en.wikipedia.org/wiki/LangChain\n",
      "[5] https://python.langchain.com/docs/introduction/\n"
     ]
    }
   ],
   "source": [
    "\n",
    "final_answer = drafting_agent.invoke({\n",
    "    \"validated_text\": validation_output[\"validated_text\"],\n",
    "    \"original_links\": validation_output[\"original_links\"],\n",
    "    \"answer_type\": \"short\"  # or\"detailed\"\n",
    "})\n",
    "\n",
    "print(final_answer)\n"
   ]
  },
  {
   "cell_type": "code",
   "execution_count": 30,
   "id": "1d9eb10f",
   "metadata": {},
   "outputs": [
    {
     "name": "stdout",
     "output_type": "stream",
     "text": [
      "LangChain is a cutting-edge Python framework that has been specifically developed for AI application development, with a primary focus on real-time data processing and seamless integration with large language models (LLMs). This framework serves as a pivotal tool in the creation of generative AI application interfaces, allowing developers to effortlessly switch between various LLMs. \n",
      "\n",
      "One of the key aspects of LangChain is its open-source nature, which enables developers to leverage its capabilities through Python and JavaScript libraries. By utilizing LangChain, developers can build LLM-driven applications such as chatbots and virtual agents with ease. The framework simplifies the programming of LLM applications by abstracting complex processes into named components, thereby enhancing the overall development process.\n",
      "\n",
      "LangChain plays a crucial role in facilitating the integration of LLMs into a wide range of applications, including document analysis, chatbots, and code analysis. This capability makes it a versatile and indispensable tool for developers looking to harness the power of LLMs in their AI applications. Overall, LangChain stands out as a comprehensive and efficient framework that empowers developers to create sophisticated AI applications with ease.\n",
      "\n",
      "Sources:\n",
      "1. https://www.datastax.com/guides/what-is-langchain\n",
      "2. https://www.techtarget.com/searchenterpriseai/definition/LangChain\n",
      "3. https://www.ibm.com/think/topics/langchain\n",
      "4. https://en.wikipedia.org/wiki/LangChain\n",
      "5. https://python.langchain.com/docs/introduction/\n"
     ]
    }
   ],
   "source": [
    "final_answer = drafting_agent.invoke({\n",
    "    \"validated_text\": validation_output[\"validated_text\"],\n",
    "    \"original_links\": validation_output[\"original_links\"],\n",
    "    \"answer_type\": \"detailed\"  \n",
    "})\n",
    "\n",
    "print(final_answer)"
   ]
  },
  {
   "cell_type": "code",
   "execution_count": 25,
   "id": "b6bcc960",
   "metadata": {},
   "outputs": [
    {
     "name": "stderr",
     "output_type": "stream",
     "text": [
      "C:\\Users\\91832\\AppData\\Local\\Temp\\ipykernel_19232\\631017967.py:2: LangGraphDeprecationWarning: Initializing StateGraph without state_schema is deprecated. Please pass in an explicit state_schema instead of just an input and output schema.\n",
      "  graph = StateGraph(input=\"input_query\", output=\"final_answer\")\n",
      "c:\\Users\\91832\\Desktop\\Tavily_web\\tavily\\lib\\site-packages\\langgraph\\graph\\state.py:89: UserWarning: Invalid state_schema: input_query. Expected a type or Annotated[type, reducer]. Please provide a valid schema to ensure correct updates.\n",
      " See: https://langchain-ai.github.io/langgraph/reference/graphs/#stategraph\n",
      "  warnings.warn(\n",
      "c:\\Users\\91832\\Desktop\\Tavily_web\\tavily\\lib\\site-packages\\langgraph\\graph\\state.py:89: UserWarning: Invalid state_schema: final_answer. Expected a type or Annotated[type, reducer]. Please provide a valid schema to ensure correct updates.\n",
      " See: https://langchain-ai.github.io/langgraph/reference/graphs/#stategraph\n",
      "  warnings.warn(\n"
     ]
    }
   ],
   "source": [
    "# Defining the Langgraph work Flow\n",
    "graph = StateGraph(input=\"input_query\", output=\"final_answer\")\n",
    "\n",
    "\n",
    "# adding the two agents workflow \n",
    "graph.add_node(\"research\", research_agent)\n",
    "graph.add_node(\"summarize\",summarizer_agent)\n",
    "graph.add_node(\"validate\", validation_agent)\n",
    "graph.add_node(\"draft\",drafting_agent)\n",
    "\n",
    "# seting  up the flow \n",
    "\n",
    "graph.set_entry_point(\"research\")\n",
    "\n",
    "graph.add_edge(\"research\",\"summarize\")\n",
    "graph.add_edge(\"summarize\",\"validate\")\n",
    "graph.add_edge(\"validate\",\"draft\")\n",
    "\n",
    "graph.set_finish_point(\"draft\")\n",
    "\n",
    "\n",
    "# compile the graph \n",
    "\n",
    "graph_app = graph.compile()\n",
    "\n"
   ]
  },
  {
   "cell_type": "code",
   "execution_count": 31,
   "id": "1f116e3b",
   "metadata": {},
   "outputs": [
    {
     "name": "stdout",
     "output_type": "stream",
     "text": [
      "Final Answer :\n",
      "LangChain is an open-source framework designed for developing applications utilizing large language models (LLMs). It focuses on streamlining AI application development, specifically emphasizing real-time data processing and integration with LLMs. By leveraging LangChain, industries such as customer service, content creation, and data analysis can experience enhancements in efficiency, accuracy, and contextual relevance of AI interactions. \n",
      "\n",
      "One of the key advantages of LangChain is its ability to bridge the communication gap between humans and machines, thereby making AI more accessible and practical in various applications. Developers can utilize LangChain to construct applications that combine LLMs with external sources of computation and data, ultimately simplifying the creation process and providing a standard interface for chains and integrations with other tools. \n",
      "\n",
      "Moreover, LangChain tools enable agents to interact with real-world information to expand or enhance services. Developers also have the capability to augment existing LLMs with memory and context through LangChain, allowing for the completion of more complex tasks with increased precision and accuracy. Overall, LangChain offers a valuable framework for leveraging LLMs in AI applications, enhancing their capabilities and utility in a variety of industries.\n",
      "\n",
      "Sources:\n",
      "[1] https://www.datastax.com/guides/what-is-langchain\n",
      "[2] https://www.geeksforgeeks.org/introduction-to-langchain/\n",
      "[3] https://www.ibm.com/think/topics/langchain\n",
      "[4] https://lakefs.io/blog/what-is-langchain-ml-architecture/\n",
      "[5] https://www.techtarget.com/searchenterpriseai/definition/LangChain\n"
     ]
    }
   ],
   "source": [
    "query = \"what is langchain and its importance?\"\n",
    "answer_type = \"short\"\n",
    "\n",
    "results = graph_app.invoke({\"input_query\": query})\n",
    "\n",
    "\n",
    "#print the final results\n",
    "\n",
    "print(\"Final Answer :\")\n",
    "\n",
    "print(results)"
   ]
  }
 ],
 "metadata": {
  "kernelspec": {
   "display_name": "tavily",
   "language": "python",
   "name": "python3"
  },
  "language_info": {
   "codemirror_mode": {
    "name": "ipython",
    "version": 3
   },
   "file_extension": ".py",
   "mimetype": "text/x-python",
   "name": "python",
   "nbconvert_exporter": "python",
   "pygments_lexer": "ipython3",
   "version": "3.10.0"
  }
 },
 "nbformat": 4,
 "nbformat_minor": 5
}
